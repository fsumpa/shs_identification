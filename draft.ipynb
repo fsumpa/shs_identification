{
 "metadata": {
  "language_info": {
   "codemirror_mode": {
    "name": "ipython",
    "version": 3
   },
   "file_extension": ".py",
   "mimetype": "text/x-python",
   "name": "python",
   "nbconvert_exporter": "python",
   "pygments_lexer": "ipython3",
   "version": "3.7.6-final"
  },
  "orig_nbformat": 2,
  "kernelspec": {
   "name": "python37664bitvenvshs1479f4852da54724aa8a955eb2ac2eca",
   "display_name": "Python 3.7.6 64-bit ('venv_shs')"
  },
  "metadata": {
   "interpreter": {
    "hash": "fcd2cabd2f9b4bd4317faf3ed3503f4e5edae1edb6dc466e778d1569cdfcfecc"
   }
  }
 },
 "nbformat": 4,
 "nbformat_minor": 2,
 "cells": [
  {
   "cell_type": "code",
   "execution_count": 1,
   "metadata": {},
   "outputs": [],
   "source": [
    "from shs_identification import *\n",
    "import numpy as np\n",
    "import pandas as pd"
   ]
  },
  {
   "cell_type": "code",
   "execution_count": 2,
   "metadata": {},
   "outputs": [
    {
     "output_type": "execute_result",
     "data": {
      "text/plain": [
       "   price[$]  capacity[Wh]  max_power[W]\n",
       "0      10.0         100.0           5.0\n",
       "1      20.0         200.0          15.0\n",
       "2     100.0        1000.0         500.0"
      ],
      "text/html": "<div>\n<style scoped>\n    .dataframe tbody tr th:only-of-type {\n        vertical-align: middle;\n    }\n\n    .dataframe tbody tr th {\n        vertical-align: top;\n    }\n\n    .dataframe thead th {\n        text-align: right;\n    }\n</style>\n<table border=\"1\" class=\"dataframe\">\n  <thead>\n    <tr style=\"text-align: right;\">\n      <th></th>\n      <th>price[$]</th>\n      <th>capacity[Wh]</th>\n      <th>max_power[W]</th>\n    </tr>\n  </thead>\n  <tbody>\n    <tr>\n      <th>0</th>\n      <td>10.0</td>\n      <td>100.0</td>\n      <td>5.0</td>\n    </tr>\n    <tr>\n      <th>1</th>\n      <td>20.0</td>\n      <td>200.0</td>\n      <td>15.0</td>\n    </tr>\n    <tr>\n      <th>2</th>\n      <td>100.0</td>\n      <td>1000.0</td>\n      <td>500.0</td>\n    </tr>\n  </tbody>\n</table>\n</div>"
     },
     "metadata": {},
     "execution_count": 2
    }
   ],
   "source": [
    "shs_characteristics = pd.DataFrame(\n",
    "    {'price[$]': pd.Series([], dtype=float),\n",
    "    'capacity[Wh]': pd.Series([], dtype=np.dtype(float)),\n",
    "    'max_power[W]': pd.Series([], dtype=np.dtype(float))\n",
    "    }\n",
    ")\n",
    "\n",
    "shs_characteristics.loc[shs_characteristics.shape[0]] = [10, 100, 5]\n",
    "shs_characteristics.loc[shs_characteristics.shape[0]] = [20, 200, 15]\n",
    "shs_characteristics.loc[shs_characteristics.shape[0]] = [100, 1000, 500]\n",
    "\n",
    "shs_characteristics"
   ]
  },
  {
   "cell_type": "code",
   "execution_count": 3,
   "metadata": {},
   "outputs": [],
   "source": [
    "from shs_identification import *\n",
    "import numpy as np\n",
    "import pandas as pd\n",
    "nodes_df = pd.DataFrame(\n",
    "                     {\n",
    "                         'label':\n",
    "                            pd.Series(\n",
    "                             ['a', 'b', 'c', 'd', 'e', 'f', 'g', 'h', 'i'],\n",
    "                             dtype=str),\n",
    "                         'x_coordinate':\n",
    "                            pd.Series([0, 0, 1, 2, 3, 0, 4, 4, 4],\n",
    "                                      dtype=np.dtype(float)),\n",
    "                         'y_coordinate':\n",
    "                            pd.Series([0, 1, 1, 0, 1, 2, 1, 0, 2],\n",
    "                                      dtype=np.dtype(float)\n",
    "                            ),\n",
    "                         'required_capacity':\n",
    "                            pd.Series([3, 6, 10, 2, 5, 15, 20, 10, 5],\n",
    "                                      dtype=np.dtype(float)\n",
    "                            ),\n",
    "                         'max_power':\n",
    "                            pd.Series([3, 6, 200, 2, 50, 20, 4, 2, 5], dtype=np.dtype(float))\n",
    "\n",
    "\n",
    "                     }\n",
    "                 ).set_index('label')"
   ]
  },
  {
   "cell_type": "code",
   "execution_count": 4,
   "metadata": {},
   "outputs": [],
   "source": [
    "links_df = mst_links(nodes_df)"
   ]
  },
  {
   "cell_type": "code",
   "execution_count": 35,
   "metadata": {},
   "outputs": [
    {
     "output_type": "stream",
     "name": "stdout",
     "text": [
      "node_A: b, node_B: a\ndf_nodes_cluster_a:        x_coordinate  y_coordinate  required_capacity  max_power  shs_price\nlabel                                                                     \nb               0.0           1.0                6.0        6.0       20.0\nc               1.0           1.0               10.0      200.0      100.0\nd               2.0           0.0                2.0        2.0       10.0\ne               3.0           1.0                5.0       50.0      100.0\nf               0.0           2.0               15.0       20.0      100.0\ng               4.0           1.0               20.0        4.0       10.0\nh               4.0           0.0               10.0        2.0       10.0\ni               4.0           2.0                5.0        5.0       10.0\nlinks_in_cluster_a:        node_a node_b  distance\nlabel                         \n(b, a)      b      a  1.000000\n(c, b)      c      b  1.000000\n(d, c)      d      c  1.414214\n(e, d)      e      d  1.414214\n(f, b)      f      b  1.000000\n(g, e)      g      e  1.000000\n(h, g)      h      g  1.000000\n(i, g)      i      g  1.000000\ndf_nodes_cluster_b:        x_coordinate  y_coordinate  required_capacity  max_power  shs_price\nlabel                                                                     \na               0.0           0.0                3.0        3.0       10.0\nlinks_in_cluster_b:        node_a node_b  distance\nlabel                         \n(b, a)      b      a       1.0\n################################3\n\n\nnode_A: c, node_B: b\ndf_nodes_cluster_a:        x_coordinate  y_coordinate  required_capacity  max_power  shs_price\nlabel                                                                     \nc               1.0           1.0               10.0      200.0      100.0\nd               2.0           0.0                2.0        2.0       10.0\ne               3.0           1.0                5.0       50.0      100.0\ng               4.0           1.0               20.0        4.0       10.0\nh               4.0           0.0               10.0        2.0       10.0\ni               4.0           2.0                5.0        5.0       10.0\nlinks_in_cluster_a:        node_a node_b  distance\nlabel                         \n(c, b)      c      b  1.000000\n(d, c)      d      c  1.414214\n(e, d)      e      d  1.414214\n(g, e)      g      e  1.000000\n(h, g)      h      g  1.000000\n(i, g)      i      g  1.000000\ndf_nodes_cluster_b:        x_coordinate  y_coordinate  required_capacity  max_power  shs_price\nlabel                                                                     \na               0.0           0.0                3.0        3.0       10.0\nb               0.0           1.0                6.0        6.0       20.0\nf               0.0           2.0               15.0       20.0      100.0\nlinks_in_cluster_b:        node_a node_b  distance\nlabel                         \n(b, a)      b      a       1.0\n(c, b)      c      b       1.0\n(f, b)      f      b       1.0\n################################3\n\n\nnode_A: d, node_B: c\ndf_nodes_cluster_a:        x_coordinate  y_coordinate  required_capacity  max_power  shs_price\nlabel                                                                     \nd               2.0           0.0                2.0        2.0       10.0\ne               3.0           1.0                5.0       50.0      100.0\ng               4.0           1.0               20.0        4.0       10.0\nh               4.0           0.0               10.0        2.0       10.0\ni               4.0           2.0                5.0        5.0       10.0\nlinks_in_cluster_a:        node_a node_b  distance\nlabel                         \n(d, c)      d      c  1.414214\n(e, d)      e      d  1.414214\n(g, e)      g      e  1.000000\n(h, g)      h      g  1.000000\n(i, g)      i      g  1.000000\ndf_nodes_cluster_b:        x_coordinate  y_coordinate  required_capacity  max_power  shs_price\nlabel                                                                     \na               0.0           0.0                3.0        3.0       10.0\nb               0.0           1.0                6.0        6.0       20.0\nc               1.0           1.0               10.0      200.0      100.0\nf               0.0           2.0               15.0       20.0      100.0\nlinks_in_cluster_b:        node_a node_b  distance\nlabel                         \n(b, a)      b      a  1.000000\n(c, b)      c      b  1.000000\n(d, c)      d      c  1.414214\n(f, b)      f      b  1.000000\n################################3\n\n\nnode_A: e, node_B: d\ndf_nodes_cluster_a:        x_coordinate  y_coordinate  required_capacity  max_power  shs_price\nlabel                                                                     \ne               3.0           1.0                5.0       50.0      100.0\ng               4.0           1.0               20.0        4.0       10.0\nh               4.0           0.0               10.0        2.0       10.0\ni               4.0           2.0                5.0        5.0       10.0\nlinks_in_cluster_a:        node_a node_b  distance\nlabel                         \n(e, d)      e      d  1.414214\n(g, e)      g      e  1.000000\n(h, g)      h      g  1.000000\n(i, g)      i      g  1.000000\ndf_nodes_cluster_b:        x_coordinate  y_coordinate  required_capacity  max_power  shs_price\nlabel                                                                     \na               0.0           0.0                3.0        3.0       10.0\nb               0.0           1.0                6.0        6.0       20.0\nc               1.0           1.0               10.0      200.0      100.0\nd               2.0           0.0                2.0        2.0       10.0\nf               0.0           2.0               15.0       20.0      100.0\nlinks_in_cluster_b:        node_a node_b  distance\nlabel                         \n(b, a)      b      a  1.000000\n(c, b)      c      b  1.000000\n(d, c)      d      c  1.414214\n(e, d)      e      d  1.414214\n(f, b)      f      b  1.000000\n################################3\n\n\nnode_A: f, node_B: b\ndf_nodes_cluster_a:        x_coordinate  y_coordinate  required_capacity  max_power  shs_price\nlabel                                                                     \nf               0.0           2.0               15.0       20.0      100.0\nlinks_in_cluster_a:        node_a node_b  distance\nlabel                         \n(f, b)      f      b       1.0\ndf_nodes_cluster_b:        x_coordinate  y_coordinate  required_capacity  max_power  shs_price\nlabel                                                                     \na               0.0           0.0                3.0        3.0       10.0\nb               0.0           1.0                6.0        6.0       20.0\nc               1.0           1.0               10.0      200.0      100.0\nd               2.0           0.0                2.0        2.0       10.0\ne               3.0           1.0                5.0       50.0      100.0\ng               4.0           1.0               20.0        4.0       10.0\nh               4.0           0.0               10.0        2.0       10.0\ni               4.0           2.0                5.0        5.0       10.0\nlinks_in_cluster_b:        node_a node_b  distance\nlabel                         \n(b, a)      b      a  1.000000\n(c, b)      c      b  1.000000\n(d, c)      d      c  1.414214\n(e, d)      e      d  1.414214\n(f, b)      f      b  1.000000\n(g, e)      g      e  1.000000\n(h, g)      h      g  1.000000\n(i, g)      i      g  1.000000\n################################3\n\n\nnode_A: g, node_B: e\ndf_nodes_cluster_a:        x_coordinate  y_coordinate  required_capacity  max_power  shs_price\nlabel                                                                     \ng               4.0           1.0               20.0        4.0       10.0\nh               4.0           0.0               10.0        2.0       10.0\ni               4.0           2.0                5.0        5.0       10.0\nlinks_in_cluster_a:        node_a node_b  distance\nlabel                         \n(g, e)      g      e       1.0\n(h, g)      h      g       1.0\n(i, g)      i      g       1.0\ndf_nodes_cluster_b:        x_coordinate  y_coordinate  required_capacity  max_power  shs_price\nlabel                                                                     \na               0.0           0.0                3.0        3.0       10.0\nb               0.0           1.0                6.0        6.0       20.0\nc               1.0           1.0               10.0      200.0      100.0\nd               2.0           0.0                2.0        2.0       10.0\ne               3.0           1.0                5.0       50.0      100.0\nf               0.0           2.0               15.0       20.0      100.0\nlinks_in_cluster_b:        node_a node_b  distance\nlabel                         \n(b, a)      b      a  1.000000\n(c, b)      c      b  1.000000\n(d, c)      d      c  1.414214\n(e, d)      e      d  1.414214\n(f, b)      f      b  1.000000\n(g, e)      g      e  1.000000\n################################3\n\n\nnode_A: h, node_B: g\ndf_nodes_cluster_a:        x_coordinate  y_coordinate  required_capacity  max_power  shs_price\nlabel                                                                     \nh               4.0           0.0               10.0        2.0       10.0\nlinks_in_cluster_a:        node_a node_b  distance\nlabel                         \n(h, g)      h      g       1.0\ndf_nodes_cluster_b:        x_coordinate  y_coordinate  required_capacity  max_power  shs_price\nlabel                                                                     \na               0.0           0.0                3.0        3.0       10.0\nb               0.0           1.0                6.0        6.0       20.0\nc               1.0           1.0               10.0      200.0      100.0\nd               2.0           0.0                2.0        2.0       10.0\ne               3.0           1.0                5.0       50.0      100.0\nf               0.0           2.0               15.0       20.0      100.0\ng               4.0           1.0               20.0        4.0       10.0\ni               4.0           2.0                5.0        5.0       10.0\nlinks_in_cluster_b:        node_a node_b  distance\nlabel                         \n(b, a)      b      a  1.000000\n(c, b)      c      b  1.000000\n(d, c)      d      c  1.414214\n(e, d)      e      d  1.414214\n(f, b)      f      b  1.000000\n(g, e)      g      e  1.000000\n(h, g)      h      g  1.000000\n(i, g)      i      g  1.000000\n################################3\n\n\nnode_A: i, node_B: g\ndf_nodes_cluster_a:        x_coordinate  y_coordinate  required_capacity  max_power  shs_price\nlabel                                                                     \ni               4.0           2.0                5.0        5.0       10.0\nlinks_in_cluster_a:        node_a node_b  distance\nlabel                         \n(i, g)      i      g       1.0\ndf_nodes_cluster_b:        x_coordinate  y_coordinate  required_capacity  max_power  shs_price\nlabel                                                                     \na               0.0           0.0                3.0        3.0       10.0\nb               0.0           1.0                6.0        6.0       20.0\nc               1.0           1.0               10.0      200.0      100.0\nd               2.0           0.0                2.0        2.0       10.0\ne               3.0           1.0                5.0       50.0      100.0\nf               0.0           2.0               15.0       20.0      100.0\ng               4.0           1.0               20.0        4.0       10.0\nh               4.0           0.0               10.0        2.0       10.0\nlinks_in_cluster_b:        node_a node_b  distance\nlabel                         \n(b, a)      b      a  1.000000\n(c, b)      c      b  1.000000\n(d, c)      d      c  1.414214\n(e, d)      e      d  1.414214\n(f, b)      f      b  1.000000\n(g, e)      g      e  1.000000\n(h, g)      h      g  1.000000\n(i, g)      i      g  1.000000\n################################3\n\n\n"
     ]
    }
   ],
   "source": [
    "for link_index, link_row in links_df.iterrows():\n",
    "\n",
    "    list_nodes_in_cluster_a = nodes_on_branch(\n",
    "        stam_node=link_row['node_b'],\n",
    "        branch_first_nodes=[link_row['node_a']],\n",
    "        links_df=links_df,\n",
    "        nodes_in_branch=[])\n",
    "\n",
    "    df_nodes_cluster_a = nodes_df[nodes_df.index.isin(list_nodes_in_cluster_a)]\n",
    "\n",
    "    links_in_cluster_a = links_df[links_df.node_a.isin(list_nodes_in_cluster_a) | links_df.node_b.isin(list_nodes_in_cluster_a)]\n",
    "    \n",
    "    list_nodes_in_cluster_b = [node for node in nodes_df.index if node not in list_nodes_in_cluster_a]\n",
    "\n",
    "    df_nodes_cluster_b = nodes_df[nodes_df.index.isin(list_nodes_in_cluster_b)]\n",
    "\n",
    "    links_in_cluster_b = links_df[links_df.node_b.isin(list_nodes_in_cluster_b) | links_df.node_b.isin(list_nodes_in_cluster_b)]\n",
    "    \n",
    "    print(f\"node_A: {link_row['node_a']}, node_B: {link_row['node_b']}\")\n",
    "    print(f'df_nodes_cluster_a: {df_nodes_cluster_a}')\n",
    "    print(f'links_in_cluster_a: {links_in_cluster_a}')\n",
    "\n",
    "    print(f'df_nodes_cluster_b: {df_nodes_cluster_b}')\n",
    "    print(f'links_in_cluster_b: {links_in_cluster_b}')\n",
    "    print('################################3\\n\\n')\n",
    "    \n",
    "    \n",
    "    \n",
    "\n",
    "\n",
    "   \n",
    "    \n",
    "    "
   ]
  },
  {
   "cell_type": "code",
   "execution_count": 6,
   "metadata": {},
   "outputs": [
    {
     "output_type": "execute_result",
     "data": {
      "text/plain": [
       "8.82842712474619"
      ]
     },
     "metadata": {},
     "execution_count": 6
    }
   ],
   "source": [
    "links_df.sum()['distance']"
   ]
  },
  {
   "cell_type": "code",
   "execution_count": 29,
   "metadata": {},
   "outputs": [
    {
     "output_type": "execute_result",
     "data": {
      "text/plain": [
       "       node_a node_b  distance\n",
       "label                         \n",
       "(e, d)      e      d  1.414214\n",
       "(g, e)      g      e  1.000000\n",
       "(h, g)      h      g  1.000000\n",
       "(i, g)      i      g  1.000000"
      ],
      "text/html": "<div>\n<style scoped>\n    .dataframe tbody tr th:only-of-type {\n        vertical-align: middle;\n    }\n\n    .dataframe tbody tr th {\n        vertical-align: top;\n    }\n\n    .dataframe thead th {\n        text-align: right;\n    }\n</style>\n<table border=\"1\" class=\"dataframe\">\n  <thead>\n    <tr style=\"text-align: right;\">\n      <th></th>\n      <th>node_a</th>\n      <th>node_b</th>\n      <th>distance</th>\n    </tr>\n    <tr>\n      <th>label</th>\n      <th></th>\n      <th></th>\n      <th></th>\n    </tr>\n  </thead>\n  <tbody>\n    <tr>\n      <th>(e, d)</th>\n      <td>e</td>\n      <td>d</td>\n      <td>1.414214</td>\n    </tr>\n    <tr>\n      <th>(g, e)</th>\n      <td>g</td>\n      <td>e</td>\n      <td>1.000000</td>\n    </tr>\n    <tr>\n      <th>(h, g)</th>\n      <td>h</td>\n      <td>g</td>\n      <td>1.000000</td>\n    </tr>\n    <tr>\n      <th>(i, g)</th>\n      <td>i</td>\n      <td>g</td>\n      <td>1.000000</td>\n    </tr>\n  </tbody>\n</table>\n</div>"
     },
     "metadata": {},
     "execution_count": 29
    }
   ],
   "source": [
    "node_selection = ['e', 'g']\n",
    "\n",
    "links_df[links_df.node_a.isin(node_selection) | links_df.node_b.isin(node_selection)]"
   ]
  },
  {
   "cell_type": "code",
   "execution_count": 32,
   "metadata": {},
   "outputs": [
    {
     "output_type": "execute_result",
     "data": {
      "text/plain": [
       "       x_coordinate  y_coordinate  required_capacity  max_power  shs_price\n",
       "label                                                                     \n",
       "e               3.0           1.0                5.0       50.0      100.0\n",
       "g               4.0           1.0               20.0        4.0       10.0"
      ],
      "text/html": "<div>\n<style scoped>\n    .dataframe tbody tr th:only-of-type {\n        vertical-align: middle;\n    }\n\n    .dataframe tbody tr th {\n        vertical-align: top;\n    }\n\n    .dataframe thead th {\n        text-align: right;\n    }\n</style>\n<table border=\"1\" class=\"dataframe\">\n  <thead>\n    <tr style=\"text-align: right;\">\n      <th></th>\n      <th>x_coordinate</th>\n      <th>y_coordinate</th>\n      <th>required_capacity</th>\n      <th>max_power</th>\n      <th>shs_price</th>\n    </tr>\n    <tr>\n      <th>label</th>\n      <th></th>\n      <th></th>\n      <th></th>\n      <th></th>\n      <th></th>\n    </tr>\n  </thead>\n  <tbody>\n    <tr>\n      <th>e</th>\n      <td>3.0</td>\n      <td>1.0</td>\n      <td>5.0</td>\n      <td>50.0</td>\n      <td>100.0</td>\n    </tr>\n    <tr>\n      <th>g</th>\n      <td>4.0</td>\n      <td>1.0</td>\n      <td>20.0</td>\n      <td>4.0</td>\n      <td>10.0</td>\n    </tr>\n  </tbody>\n</table>\n</div>"
     },
     "metadata": {},
     "execution_count": 32
    }
   ],
   "source": [
    "nodes_df[nodes_df.index.isin(node_selection)]"
   ]
  },
  {
   "cell_type": "code",
   "execution_count": 7,
   "metadata": {},
   "outputs": [],
   "source": [
    "nodes_df['shs_price'] = [unitarian_disconnection_price(node_index=node, nodes_df=nodes_df, shs_characteristics=shs_characteristics) for node, y in nodes_df.iterrows()]"
   ]
  },
  {
   "cell_type": "code",
   "execution_count": null,
   "metadata": {},
   "outputs": [],
   "source": [
    "[unitarian_disconnection_price(node_index=node, nodes_df=nodes_df, shs_characteristics=shs_characteristics) for node, y in nodes_df.iterrows()]"
   ]
  },
  {
   "cell_type": "code",
   "execution_count": 10,
   "metadata": {},
   "outputs": [
    {
     "output_type": "execute_result",
     "data": {
      "text/plain": [
       "['c', 'd', 'e', 'g', 'h', 'i']"
      ]
     },
     "metadata": {},
     "execution_count": 10
    }
   ],
   "source": [
    "from_node = 'b'\n",
    "branches_to_remove = 'c'\n",
    "nodes_in_branch = []\n",
    "\n",
    "nodes_on_branch(from_node, branches_to_remove, links_df, nodes_in_branch)"
   ]
  },
  {
   "cell_type": "code",
   "execution_count": null,
   "metadata": {},
   "outputs": [],
   "source": [
    "res"
   ]
  },
  {
   "cell_type": "code",
   "execution_count": null,
   "metadata": {},
   "outputs": [],
   "source": [
    "neighoring_nodes('node0', links_df)"
   ]
  }
 ]
}