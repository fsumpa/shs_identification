{
 "metadata": {
  "language_info": {
   "codemirror_mode": {
    "name": "ipython",
    "version": 3
   },
   "file_extension": ".py",
   "mimetype": "text/x-python",
   "name": "python",
   "nbconvert_exporter": "python",
   "pygments_lexer": "ipython3",
   "version": "3.7.6-final"
  },
  "orig_nbformat": 2,
  "kernelspec": {
   "name": "python37664bitvenvshs1479f4852da54724aa8a955eb2ac2eca",
   "display_name": "Python 3.7.6 64-bit ('venv_shs')"
  },
  "metadata": {
   "interpreter": {
    "hash": "fcd2cabd2f9b4bd4317faf3ed3503f4e5edae1edb6dc466e778d1569cdfcfecc"
   }
  }
 },
 "nbformat": 4,
 "nbformat_minor": 2,
 "cells": [
  {
   "cell_type": "code",
   "execution_count": 1,
   "metadata": {},
   "outputs": [],
   "source": [
    "from shs_identification import *\n",
    "import numpy as np\n",
    "import pandas as pd"
   ]
  },
  {
   "cell_type": "code",
   "execution_count": 2,
   "metadata": {},
   "outputs": [
    {
     "output_type": "execute_result",
     "data": {
      "text/plain": [
       "   price[$]  capacity[Wh]  max_power[W]\n",
       "0      10.0         100.0           5.0\n",
       "1      20.0         200.0          15.0\n",
       "2     100.0        1000.0         500.0"
      ],
      "text/html": "<div>\n<style scoped>\n    .dataframe tbody tr th:only-of-type {\n        vertical-align: middle;\n    }\n\n    .dataframe tbody tr th {\n        vertical-align: top;\n    }\n\n    .dataframe thead th {\n        text-align: right;\n    }\n</style>\n<table border=\"1\" class=\"dataframe\">\n  <thead>\n    <tr style=\"text-align: right;\">\n      <th></th>\n      <th>price[$]</th>\n      <th>capacity[Wh]</th>\n      <th>max_power[W]</th>\n    </tr>\n  </thead>\n  <tbody>\n    <tr>\n      <th>0</th>\n      <td>10.0</td>\n      <td>100.0</td>\n      <td>5.0</td>\n    </tr>\n    <tr>\n      <th>1</th>\n      <td>20.0</td>\n      <td>200.0</td>\n      <td>15.0</td>\n    </tr>\n    <tr>\n      <th>2</th>\n      <td>100.0</td>\n      <td>1000.0</td>\n      <td>500.0</td>\n    </tr>\n  </tbody>\n</table>\n</div>"
     },
     "metadata": {},
     "execution_count": 2
    }
   ],
   "source": [
    "shs_characteristics = pd.DataFrame(\n",
    "    {'price[$]': pd.Series([], dtype=float),\n",
    "    'capacity[Wh]': pd.Series([], dtype=np.dtype(float)),\n",
    "    'max_power[W]': pd.Series([], dtype=np.dtype(float))\n",
    "    }\n",
    ")\n",
    "\n",
    "shs_characteristics.loc[shs_characteristics.shape[0]] = [10, 100, 5]\n",
    "shs_characteristics.loc[shs_characteristics.shape[0]] = [20, 200, 15]\n",
    "shs_characteristics.loc[shs_characteristics.shape[0]] = [100, 1000, 500]\n",
    "\n",
    "shs_characteristics"
   ]
  },
  {
   "cell_type": "code",
   "execution_count": 81,
   "metadata": {},
   "outputs": [],
   "source": [
    "from shs_identification import *\n",
    "import numpy as np\n",
    "import pandas as pd\n",
    "nodes_df = pd.DataFrame(\n",
    "                     {\n",
    "                         'label':\n",
    "                            pd.Series(\n",
    "                             ['a', 'b', 'c', 'd', 'e', 'f', 'g', 'h', 'i'],\n",
    "                             dtype=str),\n",
    "                         'x_coordinate':\n",
    "                            pd.Series([0, 0, 1, 2, 3, 0, 4, 4, 4],\n",
    "                                      dtype=np.dtype(float)),\n",
    "                         'y_coordinate':\n",
    "                            pd.Series([0, 1, 1, 0, 1, 2, 1, 0, 2],\n",
    "                                      dtype=np.dtype(float)\n",
    "                            ),\n",
    "                         'required_capacity':\n",
    "                            pd.Series([3, 6, 10, 2, 5, 15, 20, 10, 5],\n",
    "                                      dtype=np.dtype(float)\n",
    "                            ),\n",
    "                         'max_power':\n",
    "                            pd.Series([3, 6, 200, 2, 50, 20, 4, 2, 5], dtype=np.dtype(float))\n",
    "\n",
    "\n",
    "                     }\n",
    "                 ).set_index('label')"
   ]
  },
  {
   "cell_type": "code",
   "execution_count": 82,
   "metadata": {},
   "outputs": [
    {
     "output_type": "execute_result",
     "data": {
      "text/plain": [
       "       x_coordinate  y_coordinate  required_capacity  max_power\n",
       "label                                                          \n",
       "a               0.0           0.0                3.0        3.0\n",
       "b               0.0           1.0                6.0        6.0\n",
       "c               1.0           1.0               10.0      200.0\n",
       "d               2.0           0.0                2.0        2.0\n",
       "e               3.0           1.0                5.0       50.0\n",
       "f               0.0           2.0               15.0       20.0\n",
       "g               4.0           1.0               20.0        4.0\n",
       "h               4.0           0.0               10.0        2.0\n",
       "i               4.0           2.0                5.0        5.0"
      ],
      "text/html": "<div>\n<style scoped>\n    .dataframe tbody tr th:only-of-type {\n        vertical-align: middle;\n    }\n\n    .dataframe tbody tr th {\n        vertical-align: top;\n    }\n\n    .dataframe thead th {\n        text-align: right;\n    }\n</style>\n<table border=\"1\" class=\"dataframe\">\n  <thead>\n    <tr style=\"text-align: right;\">\n      <th></th>\n      <th>x_coordinate</th>\n      <th>y_coordinate</th>\n      <th>required_capacity</th>\n      <th>max_power</th>\n    </tr>\n    <tr>\n      <th>label</th>\n      <th></th>\n      <th></th>\n      <th></th>\n      <th></th>\n    </tr>\n  </thead>\n  <tbody>\n    <tr>\n      <th>a</th>\n      <td>0.0</td>\n      <td>0.0</td>\n      <td>3.0</td>\n      <td>3.0</td>\n    </tr>\n    <tr>\n      <th>b</th>\n      <td>0.0</td>\n      <td>1.0</td>\n      <td>6.0</td>\n      <td>6.0</td>\n    </tr>\n    <tr>\n      <th>c</th>\n      <td>1.0</td>\n      <td>1.0</td>\n      <td>10.0</td>\n      <td>200.0</td>\n    </tr>\n    <tr>\n      <th>d</th>\n      <td>2.0</td>\n      <td>0.0</td>\n      <td>2.0</td>\n      <td>2.0</td>\n    </tr>\n    <tr>\n      <th>e</th>\n      <td>3.0</td>\n      <td>1.0</td>\n      <td>5.0</td>\n      <td>50.0</td>\n    </tr>\n    <tr>\n      <th>f</th>\n      <td>0.0</td>\n      <td>2.0</td>\n      <td>15.0</td>\n      <td>20.0</td>\n    </tr>\n    <tr>\n      <th>g</th>\n      <td>4.0</td>\n      <td>1.0</td>\n      <td>20.0</td>\n      <td>4.0</td>\n    </tr>\n    <tr>\n      <th>h</th>\n      <td>4.0</td>\n      <td>0.0</td>\n      <td>10.0</td>\n      <td>2.0</td>\n    </tr>\n    <tr>\n      <th>i</th>\n      <td>4.0</td>\n      <td>2.0</td>\n      <td>5.0</td>\n      <td>5.0</td>\n    </tr>\n  </tbody>\n</table>\n</div>"
     },
     "metadata": {},
     "execution_count": 82
    }
   ],
   "source": [
    "nodes_df"
   ]
  },
  {
   "cell_type": "code",
   "execution_count": 83,
   "metadata": {},
   "outputs": [],
   "source": [
    "links_df = mst_links(nodes_df)"
   ]
  },
  {
   "cell_type": "code",
   "execution_count": 84,
   "metadata": {},
   "outputs": [
    {
     "output_type": "execute_result",
     "data": {
      "text/plain": [
       "       node_a node_b  distance\n",
       "label                         \n",
       "(b, a)      b      a  1.000000\n",
       "(c, b)      c      b  1.000000\n",
       "(d, c)      d      c  1.414214\n",
       "(e, d)      e      d  1.414214\n",
       "(f, b)      f      b  1.000000\n",
       "(g, e)      g      e  1.000000\n",
       "(h, g)      h      g  1.000000\n",
       "(i, g)      i      g  1.000000"
      ],
      "text/html": "<div>\n<style scoped>\n    .dataframe tbody tr th:only-of-type {\n        vertical-align: middle;\n    }\n\n    .dataframe tbody tr th {\n        vertical-align: top;\n    }\n\n    .dataframe thead th {\n        text-align: right;\n    }\n</style>\n<table border=\"1\" class=\"dataframe\">\n  <thead>\n    <tr style=\"text-align: right;\">\n      <th></th>\n      <th>node_a</th>\n      <th>node_b</th>\n      <th>distance</th>\n    </tr>\n    <tr>\n      <th>label</th>\n      <th></th>\n      <th></th>\n      <th></th>\n    </tr>\n  </thead>\n  <tbody>\n    <tr>\n      <th>(b, a)</th>\n      <td>b</td>\n      <td>a</td>\n      <td>1.000000</td>\n    </tr>\n    <tr>\n      <th>(c, b)</th>\n      <td>c</td>\n      <td>b</td>\n      <td>1.000000</td>\n    </tr>\n    <tr>\n      <th>(d, c)</th>\n      <td>d</td>\n      <td>c</td>\n      <td>1.414214</td>\n    </tr>\n    <tr>\n      <th>(e, d)</th>\n      <td>e</td>\n      <td>d</td>\n      <td>1.414214</td>\n    </tr>\n    <tr>\n      <th>(f, b)</th>\n      <td>f</td>\n      <td>b</td>\n      <td>1.000000</td>\n    </tr>\n    <tr>\n      <th>(g, e)</th>\n      <td>g</td>\n      <td>e</td>\n      <td>1.000000</td>\n    </tr>\n    <tr>\n      <th>(h, g)</th>\n      <td>h</td>\n      <td>g</td>\n      <td>1.000000</td>\n    </tr>\n    <tr>\n      <th>(i, g)</th>\n      <td>i</td>\n      <td>g</td>\n      <td>1.000000</td>\n    </tr>\n  </tbody>\n</table>\n</div>"
     },
     "metadata": {},
     "execution_count": 84
    }
   ],
   "source": [
    "links_df"
   ]
  },
  {
   "cell_type": "code",
   "execution_count": 85,
   "metadata": {},
   "outputs": [],
   "source": [
    "number_of_connections = {}\n",
    "\n",
    "for node in nodes_df.index:\n",
    "    number_of_connections[node] = count_number_of_connections(node, links_df)"
   ]
  },
  {
   "cell_type": "code",
   "execution_count": 86,
   "metadata": {},
   "outputs": [
    {
     "output_type": "execute_result",
     "data": {
      "text/plain": [
       "{'a': 1, 'b': 3, 'c': 2, 'd': 2, 'e': 2, 'f': 1, 'g': 3, 'h': 1, 'i': 1}"
      ]
     },
     "metadata": {},
     "execution_count": 86
    }
   ],
   "source": [
    "number_of_connections"
   ]
  },
  {
   "cell_type": "code",
   "execution_count": 87,
   "metadata": {},
   "outputs": [],
   "source": [
    "leaves_nodes = [node for node in number_of_connections.keys() if number_of_connections[node] == 1]"
   ]
  },
  {
   "cell_type": "code",
   "execution_count": 88,
   "metadata": {},
   "outputs": [
    {
     "output_type": "execute_result",
     "data": {
      "text/plain": [
       "       node_a node_b  distance\n",
       "label                         \n",
       "(b, a)      b      a  1.000000\n",
       "(c, b)      c      b  1.000000\n",
       "(d, c)      d      c  1.414214\n",
       "(e, d)      e      d  1.414214\n",
       "(f, b)      f      b  1.000000\n",
       "(g, e)      g      e  1.000000\n",
       "(h, g)      h      g  1.000000\n",
       "(i, g)      i      g  1.000000"
      ],
      "text/html": "<div>\n<style scoped>\n    .dataframe tbody tr th:only-of-type {\n        vertical-align: middle;\n    }\n\n    .dataframe tbody tr th {\n        vertical-align: top;\n    }\n\n    .dataframe thead th {\n        text-align: right;\n    }\n</style>\n<table border=\"1\" class=\"dataframe\">\n  <thead>\n    <tr style=\"text-align: right;\">\n      <th></th>\n      <th>node_a</th>\n      <th>node_b</th>\n      <th>distance</th>\n    </tr>\n    <tr>\n      <th>label</th>\n      <th></th>\n      <th></th>\n      <th></th>\n    </tr>\n  </thead>\n  <tbody>\n    <tr>\n      <th>(b, a)</th>\n      <td>b</td>\n      <td>a</td>\n      <td>1.000000</td>\n    </tr>\n    <tr>\n      <th>(c, b)</th>\n      <td>c</td>\n      <td>b</td>\n      <td>1.000000</td>\n    </tr>\n    <tr>\n      <th>(d, c)</th>\n      <td>d</td>\n      <td>c</td>\n      <td>1.414214</td>\n    </tr>\n    <tr>\n      <th>(e, d)</th>\n      <td>e</td>\n      <td>d</td>\n      <td>1.414214</td>\n    </tr>\n    <tr>\n      <th>(f, b)</th>\n      <td>f</td>\n      <td>b</td>\n      <td>1.000000</td>\n    </tr>\n    <tr>\n      <th>(g, e)</th>\n      <td>g</td>\n      <td>e</td>\n      <td>1.000000</td>\n    </tr>\n    <tr>\n      <th>(h, g)</th>\n      <td>h</td>\n      <td>g</td>\n      <td>1.000000</td>\n    </tr>\n    <tr>\n      <th>(i, g)</th>\n      <td>i</td>\n      <td>g</td>\n      <td>1.000000</td>\n    </tr>\n  </tbody>\n</table>\n</div>"
     },
     "metadata": {},
     "execution_count": 88
    }
   ],
   "source": [
    "links_df"
   ]
  },
  {
   "cell_type": "code",
   "execution_count": 89,
   "metadata": {},
   "outputs": [],
   "source": [
    "links_df['price_shs_cluster_a'] = [-1] * links_df.shape[0]\n",
    "links_df['price_shs_cluster_b'] = [-1] * links_df.shape[0]\n",
    "\n",
    "links_df['price_cables_cluster_b'] = [-1] * links_df.shape[0]\n",
    "links_df['price_cables_cluster_b'] = [-1] * links_df.shape[0]"
   ]
  },
  {
   "cell_type": "code",
   "execution_count": 90,
   "metadata": {},
   "outputs": [
    {
     "output_type": "execute_result",
     "data": {
      "text/plain": [
       "       node_a node_b  distance  price_shs_cluster_a  price_shs_cluster_b  \\\n",
       "label                                                                      \n",
       "(b, a)      b      a  1.000000                   -1                   -1   \n",
       "(c, b)      c      b  1.000000                   -1                   -1   \n",
       "(d, c)      d      c  1.414214                   -1                   -1   \n",
       "(e, d)      e      d  1.414214                   -1                   -1   \n",
       "(f, b)      f      b  1.000000                   -1                   -1   \n",
       "(g, e)      g      e  1.000000                   -1                   -1   \n",
       "(h, g)      h      g  1.000000                   -1                   -1   \n",
       "(i, g)      i      g  1.000000                   -1                   -1   \n",
       "\n",
       "        price_cables_cluster_b  \n",
       "label                           \n",
       "(b, a)                      -1  \n",
       "(c, b)                      -1  \n",
       "(d, c)                      -1  \n",
       "(e, d)                      -1  \n",
       "(f, b)                      -1  \n",
       "(g, e)                      -1  \n",
       "(h, g)                      -1  \n",
       "(i, g)                      -1  "
      ],
      "text/html": "<div>\n<style scoped>\n    .dataframe tbody tr th:only-of-type {\n        vertical-align: middle;\n    }\n\n    .dataframe tbody tr th {\n        vertical-align: top;\n    }\n\n    .dataframe thead th {\n        text-align: right;\n    }\n</style>\n<table border=\"1\" class=\"dataframe\">\n  <thead>\n    <tr style=\"text-align: right;\">\n      <th></th>\n      <th>node_a</th>\n      <th>node_b</th>\n      <th>distance</th>\n      <th>price_shs_cluster_a</th>\n      <th>price_shs_cluster_b</th>\n      <th>price_cables_cluster_b</th>\n    </tr>\n    <tr>\n      <th>label</th>\n      <th></th>\n      <th></th>\n      <th></th>\n      <th></th>\n      <th></th>\n      <th></th>\n    </tr>\n  </thead>\n  <tbody>\n    <tr>\n      <th>(b, a)</th>\n      <td>b</td>\n      <td>a</td>\n      <td>1.000000</td>\n      <td>-1</td>\n      <td>-1</td>\n      <td>-1</td>\n    </tr>\n    <tr>\n      <th>(c, b)</th>\n      <td>c</td>\n      <td>b</td>\n      <td>1.000000</td>\n      <td>-1</td>\n      <td>-1</td>\n      <td>-1</td>\n    </tr>\n    <tr>\n      <th>(d, c)</th>\n      <td>d</td>\n      <td>c</td>\n      <td>1.414214</td>\n      <td>-1</td>\n      <td>-1</td>\n      <td>-1</td>\n    </tr>\n    <tr>\n      <th>(e, d)</th>\n      <td>e</td>\n      <td>d</td>\n      <td>1.414214</td>\n      <td>-1</td>\n      <td>-1</td>\n      <td>-1</td>\n    </tr>\n    <tr>\n      <th>(f, b)</th>\n      <td>f</td>\n      <td>b</td>\n      <td>1.000000</td>\n      <td>-1</td>\n      <td>-1</td>\n      <td>-1</td>\n    </tr>\n    <tr>\n      <th>(g, e)</th>\n      <td>g</td>\n      <td>e</td>\n      <td>1.000000</td>\n      <td>-1</td>\n      <td>-1</td>\n      <td>-1</td>\n    </tr>\n    <tr>\n      <th>(h, g)</th>\n      <td>h</td>\n      <td>g</td>\n      <td>1.000000</td>\n      <td>-1</td>\n      <td>-1</td>\n      <td>-1</td>\n    </tr>\n    <tr>\n      <th>(i, g)</th>\n      <td>i</td>\n      <td>g</td>\n      <td>1.000000</td>\n      <td>-1</td>\n      <td>-1</td>\n      <td>-1</td>\n    </tr>\n  </tbody>\n</table>\n</div>"
     },
     "metadata": {},
     "execution_count": 90
    }
   ],
   "source": [
    "links_df"
   ]
  },
  {
   "cell_type": "code",
   "execution_count": 91,
   "metadata": {},
   "outputs": [],
   "source": [
    "for link_index, link_row in links_df.iterrows():\n",
    "    links_df_cluster_a = links_df.copy()\n",
    "    links_in_cluster_a = []\n",
    "    nodes_in_cluster_a = []\n",
    "\n",
    "    \n",
    "    "
   ]
  },
  {
   "cell_type": "code",
   "execution_count": 92,
   "metadata": {},
   "outputs": [
    {
     "output_type": "execute_result",
     "data": {
      "text/plain": [
       "       x_coordinate  y_coordinate  required_capacity  max_power\n",
       "label                                                          \n",
       "a               0.0           0.0                3.0        3.0\n",
       "b               0.0           1.0                6.0        6.0\n",
       "c               1.0           1.0               10.0      200.0\n",
       "d               2.0           0.0                2.0        2.0\n",
       "e               3.0           1.0                5.0       50.0\n",
       "f               0.0           2.0               15.0       20.0\n",
       "g               4.0           1.0               20.0        4.0\n",
       "h               4.0           0.0               10.0        2.0\n",
       "i               4.0           2.0                5.0        5.0"
      ],
      "text/html": "<div>\n<style scoped>\n    .dataframe tbody tr th:only-of-type {\n        vertical-align: middle;\n    }\n\n    .dataframe tbody tr th {\n        vertical-align: top;\n    }\n\n    .dataframe thead th {\n        text-align: right;\n    }\n</style>\n<table border=\"1\" class=\"dataframe\">\n  <thead>\n    <tr style=\"text-align: right;\">\n      <th></th>\n      <th>x_coordinate</th>\n      <th>y_coordinate</th>\n      <th>required_capacity</th>\n      <th>max_power</th>\n    </tr>\n    <tr>\n      <th>label</th>\n      <th></th>\n      <th></th>\n      <th></th>\n      <th></th>\n    </tr>\n  </thead>\n  <tbody>\n    <tr>\n      <th>a</th>\n      <td>0.0</td>\n      <td>0.0</td>\n      <td>3.0</td>\n      <td>3.0</td>\n    </tr>\n    <tr>\n      <th>b</th>\n      <td>0.0</td>\n      <td>1.0</td>\n      <td>6.0</td>\n      <td>6.0</td>\n    </tr>\n    <tr>\n      <th>c</th>\n      <td>1.0</td>\n      <td>1.0</td>\n      <td>10.0</td>\n      <td>200.0</td>\n    </tr>\n    <tr>\n      <th>d</th>\n      <td>2.0</td>\n      <td>0.0</td>\n      <td>2.0</td>\n      <td>2.0</td>\n    </tr>\n    <tr>\n      <th>e</th>\n      <td>3.0</td>\n      <td>1.0</td>\n      <td>5.0</td>\n      <td>50.0</td>\n    </tr>\n    <tr>\n      <th>f</th>\n      <td>0.0</td>\n      <td>2.0</td>\n      <td>15.0</td>\n      <td>20.0</td>\n    </tr>\n    <tr>\n      <th>g</th>\n      <td>4.0</td>\n      <td>1.0</td>\n      <td>20.0</td>\n      <td>4.0</td>\n    </tr>\n    <tr>\n      <th>h</th>\n      <td>4.0</td>\n      <td>0.0</td>\n      <td>10.0</td>\n      <td>2.0</td>\n    </tr>\n    <tr>\n      <th>i</th>\n      <td>4.0</td>\n      <td>2.0</td>\n      <td>5.0</td>\n      <td>5.0</td>\n    </tr>\n  </tbody>\n</table>\n</div>"
     },
     "metadata": {},
     "execution_count": 92
    }
   ],
   "source": [
    "nodes_df"
   ]
  },
  {
   "cell_type": "code",
   "execution_count": 93,
   "metadata": {},
   "outputs": [],
   "source": [
    "node_n = 'node0'\n",
    "node_n_minus_1 = 'node'"
   ]
  },
  {
   "cell_type": "code",
   "execution_count": 94,
   "metadata": {},
   "outputs": [
    {
     "output_type": "execute_result",
     "data": {
      "text/plain": [
       "8.82842712474619"
      ]
     },
     "metadata": {},
     "execution_count": 94
    }
   ],
   "source": [
    "links_df.sum()['distance']"
   ]
  },
  {
   "cell_type": "code",
   "execution_count": 95,
   "metadata": {},
   "outputs": [],
   "source": [
    "nodes_df['shs_price'] = [unitarian_disconnection_price(node_index=node, nodes_df=nodes_df, shs_characteristics=shs_characteristics) for node, y in nodes_df.iterrows()]"
   ]
  },
  {
   "cell_type": "code",
   "execution_count": 96,
   "metadata": {},
   "outputs": [
    {
     "output_type": "execute_result",
     "data": {
      "text/plain": [
       "[10.0, 20.0, 100.0, 10.0, 100.0, 100.0, 10.0, 10.0, 10.0]"
      ]
     },
     "metadata": {},
     "execution_count": 96
    }
   ],
   "source": [
    "[unitarian_disconnection_price(node_index=node, nodes_df=nodes_df, shs_characteristics=shs_characteristics) for node, y in nodes_df.iterrows()]"
   ]
  },
  {
   "cell_type": "code",
   "execution_count": 97,
   "metadata": {},
   "outputs": [
    {
     "output_type": "execute_result",
     "data": {
      "text/plain": [
       "       x_coordinate  y_coordinate  required_capacity  max_power  shs_price\n",
       "label                                                                     \n",
       "a               0.0           0.0                3.0        3.0       10.0\n",
       "b               0.0           1.0                6.0        6.0       20.0\n",
       "c               1.0           1.0               10.0      200.0      100.0\n",
       "d               2.0           0.0                2.0        2.0       10.0\n",
       "e               3.0           1.0                5.0       50.0      100.0\n",
       "f               0.0           2.0               15.0       20.0      100.0\n",
       "g               4.0           1.0               20.0        4.0       10.0\n",
       "h               4.0           0.0               10.0        2.0       10.0\n",
       "i               4.0           2.0                5.0        5.0       10.0"
      ],
      "text/html": "<div>\n<style scoped>\n    .dataframe tbody tr th:only-of-type {\n        vertical-align: middle;\n    }\n\n    .dataframe tbody tr th {\n        vertical-align: top;\n    }\n\n    .dataframe thead th {\n        text-align: right;\n    }\n</style>\n<table border=\"1\" class=\"dataframe\">\n  <thead>\n    <tr style=\"text-align: right;\">\n      <th></th>\n      <th>x_coordinate</th>\n      <th>y_coordinate</th>\n      <th>required_capacity</th>\n      <th>max_power</th>\n      <th>shs_price</th>\n    </tr>\n    <tr>\n      <th>label</th>\n      <th></th>\n      <th></th>\n      <th></th>\n      <th></th>\n      <th></th>\n    </tr>\n  </thead>\n  <tbody>\n    <tr>\n      <th>a</th>\n      <td>0.0</td>\n      <td>0.0</td>\n      <td>3.0</td>\n      <td>3.0</td>\n      <td>10.0</td>\n    </tr>\n    <tr>\n      <th>b</th>\n      <td>0.0</td>\n      <td>1.0</td>\n      <td>6.0</td>\n      <td>6.0</td>\n      <td>20.0</td>\n    </tr>\n    <tr>\n      <th>c</th>\n      <td>1.0</td>\n      <td>1.0</td>\n      <td>10.0</td>\n      <td>200.0</td>\n      <td>100.0</td>\n    </tr>\n    <tr>\n      <th>d</th>\n      <td>2.0</td>\n      <td>0.0</td>\n      <td>2.0</td>\n      <td>2.0</td>\n      <td>10.0</td>\n    </tr>\n    <tr>\n      <th>e</th>\n      <td>3.0</td>\n      <td>1.0</td>\n      <td>5.0</td>\n      <td>50.0</td>\n      <td>100.0</td>\n    </tr>\n    <tr>\n      <th>f</th>\n      <td>0.0</td>\n      <td>2.0</td>\n      <td>15.0</td>\n      <td>20.0</td>\n      <td>100.0</td>\n    </tr>\n    <tr>\n      <th>g</th>\n      <td>4.0</td>\n      <td>1.0</td>\n      <td>20.0</td>\n      <td>4.0</td>\n      <td>10.0</td>\n    </tr>\n    <tr>\n      <th>h</th>\n      <td>4.0</td>\n      <td>0.0</td>\n      <td>10.0</td>\n      <td>2.0</td>\n      <td>10.0</td>\n    </tr>\n    <tr>\n      <th>i</th>\n      <td>4.0</td>\n      <td>2.0</td>\n      <td>5.0</td>\n      <td>5.0</td>\n      <td>10.0</td>\n    </tr>\n  </tbody>\n</table>\n</div>"
     },
     "metadata": {},
     "execution_count": 97
    }
   ],
   "source": [
    "nodes_df"
   ]
  },
  {
   "cell_type": "code",
   "execution_count": 117,
   "metadata": {},
   "outputs": [],
   "source": [
    "def remove_branch(current_node, branches_to_remove, links_df, nodes_in_branch):\n",
    "    for branch_node in branches_to_remove:\n",
    "        if branch_node not in nodes_in_branch:\n",
    "            nodes_in_branch.append(branch_node)\n",
    "    if len(branches_to_remove) == 0:\n",
    "        print(f'exit loop cause node {current_node} is a leaf')\n",
    "        return nodes_in_branch\n",
    "    \n",
    "    for node in branches_to_remove:\n",
    "        neighbors = neighoring_nodes(\n",
    "            node_index=node,\n",
    "            links_df=links_df)\n",
    "        print(f\"neighbors nodes: {neighbors}\")\n",
    "        downstream_nodes = [node for node in neighbors if (node != current_node and node not in nodes_in_branch)]\n",
    "        nodes_in_branch += downstream_nodes\n",
    "        print(f\"downstream nodes: {downstream_nodes}\")\n",
    "        return remove_branch(node, downstream_nodes, links_df, nodes_in_branch)\n",
    "    print(f'nodes_in_branch: {nodes_in_branch}\\n')\n",
    "    "
   ]
  },
  {
   "cell_type": "code",
   "execution_count": 120,
   "metadata": {},
   "outputs": [
    {
     "output_type": "stream",
     "name": "stdout",
     "text": [
      "neighbors nodes: ['d', 'b']\ndownstream nodes: ['d']\nneighbors nodes: ['e', 'c']\ndownstream nodes: ['e']\nneighbors nodes: ['d', 'g']\ndownstream nodes: ['g']\nneighbors nodes: ['e', 'i', 'h']\ndownstream nodes: ['i', 'h']\nneighbors nodes: ['g']\ndownstream nodes: []\nexit loop cause node i is a leaf\n"
     ]
    }
   ],
   "source": [
    "from_node = 'b'\n",
    "branches_to_remove = 'c'\n",
    "nodes_in_branch = []\n",
    "\n",
    "res = remove_branch(from_node, branches_to_remove, links_df, nodes_in_branch)"
   ]
  },
  {
   "source": [],
   "cell_type": "markdown",
   "metadata": {}
  },
  {
   "cell_type": "code",
   "execution_count": 121,
   "metadata": {},
   "outputs": [
    {
     "output_type": "execute_result",
     "data": {
      "text/plain": [
       "['c', 'd', 'e', 'g', 'i', 'h']"
      ]
     },
     "metadata": {},
     "execution_count": 121
    }
   ],
   "source": [
    "res"
   ]
  },
  {
   "cell_type": "code",
   "execution_count": null,
   "metadata": {},
   "outputs": [],
   "source": [
    "neighoring_nodes('node0', links_df)"
   ]
  },
  {
   "cell_type": "code",
   "execution_count": null,
   "metadata": {},
   "outputs": [],
   "source": [
    "def rep_node(node, list_of_node, links_df):\n",
    "    for neighbor in neighoring_nodes(node, links_df):\n",
    "        \n",
    "        print(neighbor)\n",
    "        rep_node(neighbor)"
   ]
  },
  {
   "cell_type": "code",
   "execution_count": null,
   "metadata": {},
   "outputs": [],
   "source": [
    "rep_node('node0')"
   ]
  },
  {
   "cell_type": "code",
   "execution_count": 47,
   "metadata": {},
   "outputs": [],
   "source": [
    "l = [1, 2]\n"
   ]
  },
  {
   "cell_type": "code",
   "execution_count": 48,
   "metadata": {},
   "outputs": [],
   "source": [
    "l += [2, 3]"
   ]
  },
  {
   "cell_type": "code",
   "execution_count": 49,
   "metadata": {},
   "outputs": [
    {
     "output_type": "execute_result",
     "data": {
      "text/plain": [
       "[1, 2, 2, 3]"
      ]
     },
     "metadata": {},
     "execution_count": 49
    }
   ],
   "source": [
    "l"
   ]
  },
  {
   "cell_type": "code",
   "execution_count": null,
   "metadata": {},
   "outputs": [],
   "source": []
  }
 ]
}