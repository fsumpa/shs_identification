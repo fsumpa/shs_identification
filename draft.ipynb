{
 "metadata": {
  "language_info": {
   "codemirror_mode": {
    "name": "ipython",
    "version": 3
   },
   "file_extension": ".py",
   "mimetype": "text/x-python",
   "name": "python",
   "nbconvert_exporter": "python",
   "pygments_lexer": "ipython3",
   "version": "3.8.5-final"
  },
  "orig_nbformat": 2,
  "kernelspec": {
   "name": "python38564bitb9b043b021304516bc8a6ad09cca834c",
   "display_name": "Python 3.8.5 64-bit",
   "language": "python"
  }
 },
 "nbformat": 4,
 "nbformat_minor": 2,
 "cells": [
  {
   "cell_type": "code",
   "execution_count": 9,
   "metadata": {},
   "outputs": [
    {
     "output_type": "error",
     "ename": "ModuleNotFoundError",
     "evalue": "No module named 'pandas'",
     "traceback": [
      "\u001b[0;31m---------------------------------------------------------------------------\u001b[0m",
      "\u001b[0;31mModuleNotFoundError\u001b[0m                       Traceback (most recent call last)",
      "\u001b[0;32m<ipython-input-9-7ba4579507dc>\u001b[0m in \u001b[0;36m<module>\u001b[0;34m\u001b[0m\n\u001b[0;32m----> 1\u001b[0;31m \u001b[0;32mimport\u001b[0m \u001b[0mshs_identification\u001b[0m\u001b[0;34m\u001b[0m\u001b[0;34m\u001b[0m\u001b[0m\n\u001b[0m",
      "\u001b[0;32m~/Projects/shs_identification/shs_identification.py\u001b[0m in \u001b[0;36m<module>\u001b[0;34m\u001b[0m\n\u001b[0;32m----> 1\u001b[0;31m \u001b[0;32mimport\u001b[0m \u001b[0mpandas\u001b[0m \u001b[0;32mas\u001b[0m \u001b[0mpd\u001b[0m\u001b[0;34m\u001b[0m\u001b[0;34m\u001b[0m\u001b[0m\n\u001b[0m\u001b[1;32m      2\u001b[0m \u001b[0;32mimport\u001b[0m \u001b[0mnumpy\u001b[0m \u001b[0;32mas\u001b[0m \u001b[0mnp\u001b[0m\u001b[0;34m\u001b[0m\u001b[0;34m\u001b[0m\u001b[0m\n\u001b[1;32m      3\u001b[0m \u001b[0;34m\u001b[0m\u001b[0m\n\u001b[1;32m      4\u001b[0m \u001b[0;34m\u001b[0m\u001b[0m\n\u001b[1;32m      5\u001b[0m \u001b[0;34m\u001b[0m\u001b[0m\n",
      "\u001b[0;31mModuleNotFoundError\u001b[0m: No module named 'pandas'"
     ]
    }
   ],
   "source": [
    "import shs_identification"
   ]
  },
  {
   "cell_type": "code",
   "execution_count": 7,
   "metadata": {},
   "outputs": [
    {
     "output_type": "error",
     "ename": "NameError",
     "evalue": "name 'pd' is not defined",
     "traceback": [
      "\u001b[0;31m---------------------------------------------------------------------------\u001b[0m",
      "\u001b[0;31mNameError\u001b[0m                                 Traceback (most recent call last)",
      "\u001b[0;32m<ipython-input-7-9be2acdafef0>\u001b[0m in \u001b[0;36m<module>\u001b[0;34m\u001b[0m\n\u001b[0;32m----> 1\u001b[0;31m shs_characteristics = pd.DataFrame(\n\u001b[0m\u001b[1;32m      2\u001b[0m     {'price[$]': pd.Series([], dtype=float),\n\u001b[1;32m      3\u001b[0m     \u001b[0;34m'capacity[Wh]'\u001b[0m\u001b[0;34m:\u001b[0m \u001b[0mpd\u001b[0m\u001b[0;34m.\u001b[0m\u001b[0mSeries\u001b[0m\u001b[0;34m(\u001b[0m\u001b[0;34m[\u001b[0m\u001b[0;34m]\u001b[0m\u001b[0;34m,\u001b[0m \u001b[0mdtype\u001b[0m\u001b[0;34m=\u001b[0m\u001b[0mnp\u001b[0m\u001b[0;34m.\u001b[0m\u001b[0mdtype\u001b[0m\u001b[0;34m(\u001b[0m\u001b[0mfloat\u001b[0m\u001b[0;34m)\u001b[0m\u001b[0;34m)\u001b[0m\u001b[0;34m,\u001b[0m\u001b[0;34m\u001b[0m\u001b[0;34m\u001b[0m\u001b[0m\n\u001b[1;32m      4\u001b[0m     \u001b[0;34m'max_power[W]'\u001b[0m\u001b[0;34m:\u001b[0m \u001b[0mpd\u001b[0m\u001b[0;34m.\u001b[0m\u001b[0mSeries\u001b[0m\u001b[0;34m(\u001b[0m\u001b[0;34m[\u001b[0m\u001b[0;34m]\u001b[0m\u001b[0;34m,\u001b[0m \u001b[0mdtype\u001b[0m\u001b[0;34m=\u001b[0m\u001b[0mnp\u001b[0m\u001b[0;34m.\u001b[0m\u001b[0mdtype\u001b[0m\u001b[0;34m(\u001b[0m\u001b[0mfloat\u001b[0m\u001b[0;34m)\u001b[0m\u001b[0;34m)\u001b[0m\u001b[0;34m\u001b[0m\u001b[0;34m\u001b[0m\u001b[0m\n\u001b[1;32m      5\u001b[0m     }\n",
      "\u001b[0;31mNameError\u001b[0m: name 'pd' is not defined"
     ]
    }
   ],
   "source": [
    "shs_characteristics = pd.DataFrame(\n",
    "    {'price[$]': pd.Series([], dtype=float),\n",
    "    'capacity[Wh]': pd.Series([], dtype=np.dtype(float)),\n",
    "    'max_power[W]': pd.Series([], dtype=np.dtype(float))\n",
    "    }\n",
    ")"
   ]
  },
  {
   "cell_type": "code",
   "execution_count": null,
   "metadata": {},
   "outputs": [],
   "source": [
    "shs_characteristics.loc[shs_characteristics.shape[0]] = [10, 100, 5]\n",
    "shs_characteristics.loc[shs_characteristics.shape[0]] = [20, 200, 15]\n",
    "shs_characteristics.loc[shs_characteristics.shape[0]] = [100, 1000, 500]\n",
    "\n",
    "shs_characteristics"
   ]
  },
  {
   "cell_type": "code",
   "execution_count": 8,
   "metadata": {},
   "outputs": [
    {
     "output_type": "stream",
     "name": "stdout",
     "text": [
      "affine==2.3.0\namply==0.1.2\nappdirs==1.4.4\nargon2-cffi==20.1.0\nasync-generator==1.10\nattrs==19.3.0\nbackcall==0.2.0\nbleach==3.1.5\nbranca==0.4.2\ncertifi==2020.12.5\ncffi==1.14.4\nchardet==4.0.0\nclick==7.1.2\nclick-plugins==1.1.1\ncligj==0.7.1\ncycler==0.10.0\ndecorator==4.4.2\ndefusedxml==0.6.0\ndescartes==1.1.0\ndistlib==0.3.1\ndocutils==0.16\nentrypoints==0.3\nfilelock==3.0.12\nFiona==1.8.18\nflake8==3.8.3\nFlask==1.1.2\nfolium==0.12.0\nfunc-timeout==4.3.5\ngeopandas==0.8.1\nidna==2.10\nimportlib-metadata==1.6.1\nipykernel==4.10.0\nipython==7.15.0\nipython-genutils==0.2.0\nipywidgets==7.5.1\nitsdangerous==1.1.0\njedi==0.17.0\nJinja2==2.11.2\njoblib==0.16.0\njsonschema==3.2.0\njupyter==1.0.0\njupyter-client==6.1.3\njupyter-console==6.1.0\njupyter-core==4.6.3\njupyterlab-pygments==0.1.2\njupyterlab-widgets==1.0.0\nkiwisolver==1.2.0\nkneed==0.7.0\nMarkupSafe==1.1.1\nmatplotlib==3.2.2\nmccabe==0.6.1\nmistune==0.8.4\nmore-itertools==8.4.0\nmunch==2.5.0\nmunkres==1.1.2\nnbclient==0.5.1\nnbconvert==5.6.1\nnbformat==5.0.7\nnest-asyncio==1.4.3\nnose==1.3.7\nnotebook==6.0.3\nnumpy==1.18.4\nopencv-python==4.2.0.34\nopenelec==0.0.4\npackaging==20.9\npandas==1.0.5\npandocfilters==1.4.2\nparso==0.7.0\npexpect==4.8.0\npickleshare==0.7.5\nPillow==8.1.0\npipenv==2020.11.15\npluggy==0.13.1\nply==3.11\nprometheus-client==0.8.0\nprompt-toolkit==3.0.5\nptyprocess==0.6.0\nPuLP==2.2\npy==1.8.2\npycodestyle==2.6.0\npycparser==2.20\npyflakes==2.2.0\nPygments==2.6.1\npyparsing==2.4.7\npyproj==3.0.0.post1\npyrsistent==0.16.0\npytest==5.4.3\npython-dateutil==2.8.1\npytz==2020.1\nPyUtilib==6.0.0\npyzmq==19.0.1\nqtconsole==4.7.4\nQtPy==1.9.0\nrasterio==1.1.8\nrasterstats==0.15.0\nrequests==2.25.1\nscikit-learn==0.23.2\nscipy==1.5.0\nSend2Trash==1.5.0\nShapely==1.7.1\nsimplejson==3.17.2\nsix==1.15.0\nsklearn==0.0\nsnuggs==1.4.7\nterminado==0.8.3\ntestpath==0.4.4\nthreadpoolctl==2.1.0\ntornado==6.0.4\ntraitlets==4.3.3\ntyping-extensions==3.7.4.3\nurllib3==1.26.2\nvirtualenv==20.4.2\nvirtualenv-clone==0.5.4\nwcwidth==0.2.4\nwebencodings==0.5.1\nWerkzeug==1.0.1\nwidgetsnbextension==3.5.1\nzipp==3.1.0\n"
     ]
    }
   ],
   "source": [
    "!pip freeze"
   ]
  },
  {
   "cell_type": "code",
   "execution_count": null,
   "metadata": {},
   "outputs": [],
   "source": []
  }
 ]
}